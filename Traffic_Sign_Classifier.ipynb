{
 "cells": [
  {
   "cell_type": "markdown",
   "metadata": {},
   "source": [
    "# Self-Driving Car Engineer Nanodegree\n",
    "\n",
    "## Deep Learning\n",
    "\n",
    "## Project: Build a Traffic Sign Recognition Classifier\n",
    "\n",
    "In this notebook, a template is provided for you to implement your functionality in stages, which is required to successfully complete this project. If additional code is required that cannot be included in the notebook, be sure that the Python code is successfully imported and included in your submission if necessary. \n",
    "\n",
    "> **Note**: Once you have completed all of the code implementations, you need to finalize your work by exporting the iPython Notebook as an HTML document. Before exporting the notebook to html, all of the code cells need to have been run so that reviewers can see the final implementation and output. You can then export the notebook by using the menu above and navigating to  \\n\",\n",
    "    \"**File -> Download as -> HTML (.html)**. Include the finished document along with this notebook as your submission. \n",
    "\n",
    "In addition to implementing code, there is a writeup to complete. The writeup should be completed in a separate file, which can be either a markdown file or a pdf document. There is a [write up template](https://github.com/udacity/CarND-Traffic-Sign-Classifier-Project/blob/master/writeup_template.md) that can be used to guide the writing process. Completing the code template and writeup template will cover all of the [rubric points](https://review.udacity.com/#!/rubrics/481/view) for this project.\n",
    "\n",
    "The [rubric](https://review.udacity.com/#!/rubrics/481/view) contains \"Stand Out Suggestions\" for enhancing the project beyond the minimum requirements. The stand out suggestions are optional. If you decide to pursue the \"stand out suggestions\", you can include the code in this Ipython notebook and also discuss the results in the writeup file.\n",
    "\n",
    "\n",
    ">**Note:** Code and Markdown cells can be executed using the **Shift + Enter** keyboard shortcut. In addition, Markdown cells can be edited by typically double-clicking the cell to enter edit mode."
   ]
  },
  {
   "cell_type": "markdown",
   "metadata": {},
   "source": [
    "---\n",
    "## Step 0: Load The Data"
   ]
  },
  {
   "cell_type": "code",
   "execution_count": 1,
   "metadata": {},
   "outputs": [],
   "source": [
    "# Load pickled data\n",
    "import pickle\n",
    "\n",
    "# TODO: Fill this in based on where you saved the training and testing data\n",
    "\n",
    "training_file   = '../data/train.p'\n",
    "validation_file = '../data/valid.p'\n",
    "testing_file    = '../data/test.p'\n",
    "\n",
    "with open(training_file, mode='rb') as f:\n",
    "    train = pickle.load(f)\n",
    "with open(validation_file, mode='rb') as f:\n",
    "    valid = pickle.load(f)\n",
    "with open(testing_file, mode='rb') as f:\n",
    "    test = pickle.load(f)\n",
    "    \n",
    "X_train, y_train = train['features'], train['labels']\n",
    "X_valid, y_valid = valid['features'], valid['labels']\n",
    "X_test, y_test = test['features'], test['labels']"
   ]
  },
  {
   "cell_type": "markdown",
   "metadata": {},
   "source": [
    "---\n",
    "\n",
    "## Step 1: Dataset Summary & Exploration\n",
    "\n",
    "The pickled data is a dictionary with 4 key/value pairs:\n",
    "\n",
    "- `'features'` is a 4D array containing raw pixel data of the traffic sign images, (num examples, width, height, channels).\n",
    "- `'labels'` is a 1D array containing the label/class id of the traffic sign. The file `signnames.csv` contains id -> name mappings for each id.\n",
    "- `'sizes'` is a list containing tuples, (width, height) representing the original width and height the image.\n",
    "- `'coords'` is a list containing tuples, (x1, y1, x2, y2) representing coordinates of a bounding box around the sign in the image. **THESE COORDINATES ASSUME THE ORIGINAL IMAGE. THE PICKLED DATA CONTAINS RESIZED VERSIONS (32 by 32) OF THESE IMAGES**\n",
    "\n",
    "Complete the basic data summary below. Use python, numpy and/or pandas methods to calculate the data summary rather than hard coding the results. For example, the [pandas shape method](http://pandas.pydata.org/pandas-docs/stable/generated/pandas.DataFrame.shape.html) might be useful for calculating some of the summary results. "
   ]
  },
  {
   "cell_type": "markdown",
   "metadata": {},
   "source": [
    "### Provide a Basic Summary of the Data Set Using Python, Numpy and/or Pandas"
   ]
  },
  {
   "cell_type": "code",
   "execution_count": 2,
   "metadata": {},
   "outputs": [
    {
     "name": "stdout",
     "output_type": "stream",
     "text": [
      "Number of training examples = 34799\n",
      "Number of validation examples = 4410\n",
      "Number of testing examples = 12630\n",
      "Image data shape = (32, 32, 3)\n",
      "Number of classes = 43\n"
     ]
    }
   ],
   "source": [
    "### Replace each question mark with the appropriate value. \n",
    "### Use python, pandas or numpy methods rather than hard coding the results\n",
    "import numpy as np\n",
    "\n",
    "assert(len(X_train) == len(y_train))\n",
    "assert(len(X_valid) == len(y_valid))\n",
    "assert(len(X_test) == len(y_test))\n",
    "\n",
    "# TODO: Number of training examples\n",
    "n_train = len(X_train)\n",
    "\n",
    "# TODO: Number of validation examples\n",
    "n_validation = len(X_valid)\n",
    "\n",
    "# TODO: Number of testing examples.\n",
    "n_test = len(X_test)\n",
    "\n",
    "# TODO: What's the shape of an traffic sign image?\n",
    "image_shape = X_train[0].shape\n",
    "\n",
    "# TODO: How many unique classes/labels there are in the dataset.\n",
    "n_classes = len(np.unique(y_train))\n",
    "\n",
    "print(\"Number of training examples =\", n_train)\n",
    "print(\"Number of validation examples =\", n_validation)\n",
    "print(\"Number of testing examples =\", n_test)\n",
    "print(\"Image data shape =\", image_shape)\n",
    "print(\"Number of classes =\", n_classes)"
   ]
  },
  {
   "cell_type": "markdown",
   "metadata": {},
   "source": [
    "### Include an exploratory visualization of the dataset"
   ]
  },
  {
   "cell_type": "markdown",
   "metadata": {},
   "source": [
    "Visualize the German Traffic Signs Dataset using the pickled file(s). This is open ended, suggestions include: plotting traffic sign images, plotting the count of each sign, etc. \n",
    "\n",
    "The [Matplotlib](http://matplotlib.org/) [examples](http://matplotlib.org/examples/index.html) and [gallery](http://matplotlib.org/gallery.html) pages are a great resource for doing visualizations in Python.\n",
    "\n",
    "**NOTE:** It's recommended you start with something simple first. If you wish to do more, come back to it after you've completed the rest of the sections. It can be interesting to look at the distribution of classes in the training, validation and test set. Is the distribution the same? Are there more examples of some classes than others?"
   ]
  },
  {
   "cell_type": "code",
   "execution_count": 3,
   "metadata": {},
   "outputs": [
    {
     "name": "stderr",
     "output_type": "stream",
     "text": [
      "/opt/conda/lib/python3.6/site-packages/matplotlib/pyplot.py:523: RuntimeWarning: More than 20 figures have been opened. Figures created through the pyplot interface (`matplotlib.pyplot.figure`) are retained until explicitly closed and may consume too much memory. (To control this warning, see the rcParam `figure.max_open_warning`).\n",
      "  max_open_warning, RuntimeWarning)\n"
     ]
    },
    {
     "data": {
      "image/png": "[encoded data removed]",
      "text/plain": [
       "<matplotlib.figure.Figure at 0x7f8ebbf5f240>"
      ]
     },
     "metadata": {
      "needs_background": "light"
     },
     "output_type": "display_data"
    },
    {
     "data": {
      "image/png": "[encoded data removed]",
      "text/plain": [
       "<matplotlib.figure.Figure at 0x7f8eacf84860>"
      ]
     },
     "metadata": {
      "needs_background": "light"
     },
     "output_type": "display_data"
    },
    {
     "data": {
      "image/png": "[encoded data removed]",
      "text/plain": [
       "<matplotlib.figure.Figure at 0x7f8eacf4b1d0>"
      ]
     },
     "metadata": {
      "needs_background": "light"
     },
     "output_type": "display_data"
    },
    {
     "data": {
      "image/png": "[encoded data removed]",
      "text/plain": [
       "<matplotlib.figure.Figure at 0x7f8eacf02ba8>"
      ]
     },
     "metadata": {
      "needs_background": "light"
     },
     "output_type": "display_data"
    },
    {
     "data": {
      "image/png": "[encoded data removed]",
      "text/plain": [
       "<matplotlib.figure.Figure at 0x7f8eacfadc88>"
      ]
     },
     "metadata": {
      "needs_background": "light"
     },
     "output_type": "display_data"
    },
    {
     "data": {
      "image/png": "[encoded data removed]",
      "text/plain": [
       "<matplotlib.figure.Figure at 0x7f8eace75c88>"
      ]
     },
     "metadata": {
      "needs_background": "light"
     },
     "output_type": "display_data"
    },
    {
     "data": {
      "image/png": "[encoded data removed]",
      "text/plain": [
       "<matplotlib.figure.Figure at 0x7f8eace38940>"
      ]
     },
     "metadata": {
      "needs_background": "light"
     },
     "output_type": "display_data"
    },
    {
     "data": {
      "image/png": "[encoded data removed]",
      "text/plain": [
       "<matplotlib.figure.Figure at 0x7f8eacdfa5f8>"
      ]
     },
     "metadata": {
      "needs_background": "light"
     },
     "output_type": "display_data"
    },
    {
     "data": {
      "image/png": "[encoded data removed]",
      "text/plain": [
       "<matplotlib.figure.Figure at 0x7f8eace40e80>"
      ]
     },
     "metadata": {
      "needs_background": "light"
     },
     "output_type": "display_data"
    },
    {
     "data": {
      "image/png": "[encoded data removed]",
      "text/plain": [
       "<matplotlib.figure.Figure at 0x7f8eacd6f128>"
      ]
     },
     "metadata": {
      "needs_background": "light"
     },
     "output_type": "display_data"
    },
    {
     "data": {
      "image/png": "[encoded data removed]",
      "text/plain": [
       "<matplotlib.figure.Figure at 0x7f8eacd28cc0>"
      ]
     },
     "metadata": {
      "needs_background": "light"
     },
     "output_type": "display_data"
    },
    {
     "data": {
      "image/png": "[encoded data removed]",
      "text/plain": [
       "<matplotlib.figure.Figure at 0x7f8eacceb978>"
      ]
     },
     "metadata": {
      "needs_background": "light"
     },
     "output_type": "display_data"
    },
    {
     "data": {
      "image/png": "[encoded data removed]",
      "text/plain": [
       "<matplotlib.figure.Figure at 0x7f8eaccac630>"
      ]
     },
     "metadata": {
      "needs_background": "light"
     },
     "output_type": "display_data"
    },
    {
     "data": {
      "image/png": "[encoded data removed]",
      "text/plain": [
       "<matplotlib.figure.Figure at 0x7f8eacc5f6d8>"
      ]
     },
     "metadata": {
      "needs_background": "light"
     },
     "output_type": "display_data"
    },
    {
     "data": {
      "image/png": "[encoded data removed]",
      "text/plain": [
       "<matplotlib.figure.Figure at 0x7f8eacc1f390>"
      ]
     },
     "metadata": {
      "needs_background": "light"
     },
     "output_type": "display_data"
    },
    {
     "data": {
      "image/png": "[encoded data removed]",
      "text/plain": [
       "<matplotlib.figure.Figure at 0x7f8eacbe3048>"
      ]
     },
     "metadata": {
      "needs_background": "light"
     },
     "output_type": "display_data"
    },
    {
     "data": {
      "image/png": "[encoded data removed]",
      "text/plain": [
       "<matplotlib.figure.Figure at 0x7f8eacb9bcc0>"
      ]
     },
     "metadata": {
      "needs_background": "light"
     },
     "output_type": "display_data"
    },
    {
     "data": {
      "image/png": "[encoded data removed]",
      "text/plain": [
       "<matplotlib.figure.Figure at 0x7f8eacbd0ac8>"
      ]
     },
     "metadata": {
      "needs_background": "light"
     },
     "output_type": "display_data"
    },
    {
     "data": {
      "image/png": "[encoded data removed]",
      "text/plain": [
       "<matplotlib.figure.Figure at 0x7f8eacb907f0>"
      ]
     },
     "metadata": {
      "needs_background": "light"
     },
     "output_type": "display_data"
    },
    {
     "data": {
      "image/png": "[encoded data removed]",
      "text/plain": [
       "<matplotlib.figure.Figure at 0x7f8eacad5438>"
      ]
     },
     "metadata": {
      "needs_background": "light"
     },
     "output_type": "display_data"
    },
    {
     "data": {
      "image/png": "[encoded data removed]",
      "text/plain": [
       "<matplotlib.figure.Figure at 0x7f8eaca970f0>"
      ]
     },
     "metadata": {
      "needs_background": "light"
     },
     "output_type": "display_data"
    },
    {
     "data": {
      "image/png": "[encoded data removed]",
      "text/plain": [
       "<matplotlib.figure.Figure at 0x7f8eacabfef0>"
      ]
     },
     "metadata": {
      "needs_background": "light"
     },
     "output_type": "display_data"
    },
    {
     "data": {
      "image/png": "[encoded data removed]",
      "text/plain": [
       "<matplotlib.figure.Figure at 0x7f8eaca81c18>"
      ]
     },
     "metadata": {
      "needs_background": "light"
     },
     "output_type": "display_data"
    },
    {
     "data": {
      "image/png": "[encoded data removed]",
      "text/plain": [
       "<matplotlib.figure.Figure at 0x7f8eaca437f0>"
      ]
     },
     "metadata": {
      "needs_background": "light"
     },
     "output_type": "display_data"
    },
    {
     "data": {
      "image/png": "[encoded data removed]",
      "text/plain": [
       "<matplotlib.figure.Figure at 0x7f8eaa4c8518>"
      ]
     },
     "metadata": {
      "needs_background": "light"
     },
     "output_type": "display_data"
    },
    {
     "data": {
      "image/png": "[encoded data removed]",
      "text/plain": [
       "<matplotlib.figure.Figure at 0x7f8eaa47c390>"
      ]
     },
     "metadata": {
      "needs_background": "light"
     },
     "output_type": "display_data"
    },
    {
     "data": {
      "image/png": "[encoded data removed]",
      "text/plain": [
       "<matplotlib.figure.Figure at 0x7f8eaa43c198>"
      ]
     },
     "metadata": {
      "needs_background": "light"
     },
     "output_type": "display_data"
    },
    {
     "data": {
      "image/png": "[encoded data removed]",
      "text/plain": [
       "<matplotlib.figure.Figure at 0x7f8eaa3f4cf8>"
      ]
     },
     "metadata": {
      "needs_background": "light"
     },
     "output_type": "display_data"
    },
    {
     "data": {
      "image/png": "[encoded data removed]",
      "text/plain": [
       "<matplotlib.figure.Figure at 0x7f8eaa3b69e8>"
      ]
     },
     "metadata": {
      "needs_background": "light"
     },
     "output_type": "display_data"
    },
    {
     "data": {
      "image/png": "[encoded data removed]",
      "text/plain": [
       "<matplotlib.figure.Figure at 0x7f8eaa369860>"
      ]
     },
     "metadata": {
      "needs_background": "light"
     },
     "output_type": "display_data"
    }
   ],
   "source": [
    "### Data exploration visualization code goes here.\n",
    "### Feel free to use as many code cells as needed.\n",
    "import matplotlib.pyplot as plt\n",
    "import random\n",
    "# Visualizations will be shown in the notebook.\n",
    "%matplotlib inline\n",
    "\n",
    "for i in range(30):\n",
    "    index = random.randint(0, len(X_train))\n",
    "    image = X_train[index].squeeze()\n",
    "    plt.figure(figsize=(1,1))\n",
    "    plt.imshow(image)\n",
    "#     print(y_train[index])"
   ]
  },
  {
   "cell_type": "code",
   "execution_count": 4,
   "metadata": {},
   "outputs": [
    {
     "data": {
      "image/png": "[encoded data removed]",
      "text/plain": [
       "<matplotlib.figure.Figure at 0x7f8ea1cc0ac8>"
      ]
     },
     "metadata": {
      "needs_background": "light"
     },
     "output_type": "display_data"
    }
   ],
   "source": [
    "plt.hist(y_train, bins = n_classes)\n",
    "plt.gcf().savefig('./my_output_figs/input_data_histogram.png')"
   ]
  },
  {
   "cell_type": "markdown",
   "metadata": {},
   "source": [
    "----\n",
    "\n",
    "## Step 2: Design and Test a Model Architecture\n",
    "\n",
    "Design and implement a deep learning model that learns to recognize traffic signs. Train and test your model on the [German Traffic Sign Dataset](http://benchmark.ini.rub.de/?section=gtsrb&subsection=dataset).\n",
    "\n",
    "The LeNet-5 implementation shown in the [classroom](https://classroom.udacity.com/nanodegrees/nd013/parts/fbf77062-5703-404e-b60c-95b78b2f3f9e/modules/6df7ae49-c61c-4bb2-a23e-6527e69209ec/lessons/601ae704-1035-4287-8b11-e2c2716217ad/concepts/d4aca031-508f-4e0b-b493-e7b706120f81) at the end of the CNN lesson is a solid starting point. You'll have to change the number of classes and possibly the preprocessing, but aside from that it's plug and play! \n",
    "\n",
    "With the LeNet-5 solution from the lecture, you should expect a validation set accuracy of about 0.89. To meet specifications, the validation set accuracy will need to be at least 0.93. It is possible to get an even higher accuracy, but 0.93 is the minimum for a successful project submission. \n",
    "\n",
    "There are various aspects to consider when thinking about this problem:\n",
    "\n",
    "- Neural network architecture (is the network over or underfitting?)\n",
    "- Play around preprocessing techniques (normalization, rgb to grayscale, etc)\n",
    "- Number of examples per label (some have more than others).\n",
    "- Generate fake data.\n",
    "\n",
    "Here is an example of a [published baseline model on this problem](http://yann.lecun.com/exdb/publis/pdf/sermanet-ijcnn-11.pdf). It's not required to be familiar with the approach used in the paper but, it's good practice to try to read papers like these."
   ]
  },
  {
   "cell_type": "markdown",
   "metadata": {},
   "source": [
    "### Pre-process the Data Set (normalization, grayscale, etc.)"
   ]
  },
  {
   "cell_type": "markdown",
   "metadata": {},
   "source": [
    "Minimally, the image data should be normalized so that the data has mean zero and equal variance. For image data, `(pixel - 128)/ 128` is a quick way to approximately normalize the data and can be used in this project. \n",
    "\n",
    "Other pre-processing steps are optional. You can try different techniques to see if it improves performance. \n",
    "\n",
    "Use the code cell (or multiple code cells, if necessary) to implement the first step of your project."
   ]
  },
  {
   "cell_type": "code",
   "execution_count": 5,
   "metadata": {},
   "outputs": [],
   "source": [
    "### Preprocess the data here. It is required to normalize the data. Other preprocessing steps could include \n",
    "### converting to grayscale, etc.\n",
    "### Feel free to use as many code cells as needed.\n",
    "from sklearn.utils import shuffle\n",
    "\n",
    "# Shuffle the data to avoid sequence dependent training.\n",
    "X_train, y_train = shuffle(X_train, y_train)\n",
    "\n",
    "# Normalize the data.\n",
    "def normalize_image(image_data):\n",
    "#     return (image_data - 128)/128\n",
    "    return image_data/128 - 0.5\n",
    "\n",
    "X_train_norm = normalize_image(X_train)\n",
    "X_valid_norm = normalize_image(X_valid)"
   ]
  },
  {
   "cell_type": "code",
   "execution_count": 6,
   "metadata": {},
   "outputs": [
    {
     "name": "stdout",
     "output_type": "stream",
     "text": [
      "79.7965494792\n",
      "0.123410542806\n",
      "31\n",
      "[[[47 43 37]\n",
      "  [42 37 33]\n",
      "  [41 35 32]\n",
      "  ..., \n",
      "  [39 33 30]\n",
      "  [39 38 34]\n",
      "  [41 41 35]]\n",
      "\n",
      " [[49 45 40]\n",
      "  [44 41 36]\n",
      "  [40 34 30]\n",
      "  ..., \n",
      "  [37 32 29]\n",
      "  [41 36 32]\n",
      "  [41 36 31]]\n",
      "\n",
      " [[53 46 40]\n",
      "  [48 44 37]\n",
      "  [43 36 31]\n",
      "  ..., \n",
      "  [38 32 29]\n",
      "  [40 34 29]\n",
      "  [40 34 30]]\n",
      "\n",
      " ..., \n",
      " [[50 43 35]\n",
      "  [46 43 35]\n",
      "  [51 44 37]\n",
      "  ..., \n",
      "  [49 45 38]\n",
      "  [52 51 42]\n",
      "  [50 48 36]]\n",
      "\n",
      " [[51 43 32]\n",
      "  [43 40 30]\n",
      "  [48 44 33]\n",
      "  ..., \n",
      "  [45 37 32]\n",
      "  [47 44 36]\n",
      "  [52 52 42]]\n",
      "\n",
      " [[57 47 34]\n",
      "  [47 43 31]\n",
      "  [50 47 35]\n",
      "  ..., \n",
      "  [40 34 29]\n",
      "  [41 38 29]\n",
      "  [46 45 36]]]\n",
      "[[[-0.1328125 -0.1640625 -0.2109375]\n",
      "  [-0.171875  -0.2109375 -0.2421875]\n",
      "  [-0.1796875 -0.2265625 -0.25     ]\n",
      "  ..., \n",
      "  [-0.1953125 -0.2421875 -0.265625 ]\n",
      "  [-0.1953125 -0.203125  -0.234375 ]\n",
      "  [-0.1796875 -0.1796875 -0.2265625]]\n",
      "\n",
      " [[-0.1171875 -0.1484375 -0.1875   ]\n",
      "  [-0.15625   -0.1796875 -0.21875  ]\n",
      "  [-0.1875    -0.234375  -0.265625 ]\n",
      "  ..., \n",
      "  [-0.2109375 -0.25      -0.2734375]\n",
      "  [-0.1796875 -0.21875   -0.25     ]\n",
      "  [-0.1796875 -0.21875   -0.2578125]]\n",
      "\n",
      " [[-0.0859375 -0.140625  -0.1875   ]\n",
      "  [-0.125     -0.15625   -0.2109375]\n",
      "  [-0.1640625 -0.21875   -0.2578125]\n",
      "  ..., \n",
      "  [-0.203125  -0.25      -0.2734375]\n",
      "  [-0.1875    -0.234375  -0.2734375]\n",
      "  [-0.1875    -0.234375  -0.265625 ]]\n",
      "\n",
      " ..., \n",
      " [[-0.109375  -0.1640625 -0.2265625]\n",
      "  [-0.140625  -0.1640625 -0.2265625]\n",
      "  [-0.1015625 -0.15625   -0.2109375]\n",
      "  ..., \n",
      "  [-0.1171875 -0.1484375 -0.203125 ]\n",
      "  [-0.09375   -0.1015625 -0.171875 ]\n",
      "  [-0.109375  -0.125     -0.21875  ]]\n",
      "\n",
      " [[-0.1015625 -0.1640625 -0.25     ]\n",
      "  [-0.1640625 -0.1875    -0.265625 ]\n",
      "  [-0.125     -0.15625   -0.2421875]\n",
      "  ..., \n",
      "  [-0.1484375 -0.2109375 -0.25     ]\n",
      "  [-0.1328125 -0.15625   -0.21875  ]\n",
      "  [-0.09375   -0.09375   -0.171875 ]]\n",
      "\n",
      " [[-0.0546875 -0.1328125 -0.234375 ]\n",
      "  [-0.1328125 -0.1640625 -0.2578125]\n",
      "  [-0.109375  -0.1328125 -0.2265625]\n",
      "  ..., \n",
      "  [-0.1875    -0.234375  -0.2734375]\n",
      "  [-0.1796875 -0.203125  -0.2734375]\n",
      "  [-0.140625  -0.1484375 -0.21875  ]]]\n"
     ]
    },
    {
     "data": {
      "image/png": "[encoded data removed]",
      "text/plain": [
       "<matplotlib.figure.Figure at 0x7f8eacbc30f0>"
      ]
     },
     "metadata": {
      "needs_background": "light"
     },
     "output_type": "display_data"
    }
   ],
   "source": [
    "index = random.randint(0, len(X_train_norm))\n",
    "image = X_train[index].squeeze()\n",
    "image_norm = X_train_norm[index].squeeze()\n",
    "plt.figure(figsize=(1,1))\n",
    "plt.imshow(image)\n",
    "print(np.mean(image))\n",
    "print(np.mean(image_norm))\n",
    "print(y_train[index])\n",
    "print(image)\n",
    "print(image_norm)"
   ]
  },
  {
   "cell_type": "markdown",
   "metadata": {},
   "source": [
    "### Model Architecture"
   ]
  },
  {
   "cell_type": "code",
   "execution_count": 7,
   "metadata": {},
   "outputs": [],
   "source": [
    "### Define your architecture here.\n",
    "### Feel free to use as many code cells as needed.\n",
    "import tensorflow as tf\n",
    "\n",
    "def LeNet(x, keep_prob):    \n",
    "    # Arguments used for tf.truncated_normal, randomly defines variables for the weights and biases for each layer\n",
    "    mu = 0\n",
    "    sigma = 0.1\n",
    "    \n",
    "    # Layer 1: Convolutional. Input = 32x32x3. Output = 28x28x6.\n",
    "    conv1_W = tf.Variable(tf.truncated_normal(shape=(5, 5, 3, 6), mean = mu, stddev = sigma))\n",
    "    conv1_b = tf.Variable(tf.zeros(6))\n",
    "    conv1   = tf.nn.conv2d(x, conv1_W, strides=[1, 1, 1, 1], padding='VALID') + conv1_b\n",
    "\n",
    "    # Activation.\n",
    "    conv1 = tf.nn.relu(conv1)\n",
    "\n",
    "    # Pooling. Input = 28x28x6. Output = 14x14x6.\n",
    "    conv1 = tf.nn.max_pool(conv1, ksize=[1, 2, 2, 1], strides=[1, 2, 2, 1], padding='VALID')\n",
    "\n",
    "    # Layer 2: Convolutional. Output = 10x10x16.\n",
    "    conv2_W = tf.Variable(tf.truncated_normal(shape=(5, 5, 6, 16), mean = mu, stddev = sigma))\n",
    "    conv2_b = tf.Variable(tf.zeros(16))\n",
    "    conv2   = tf.nn.conv2d(conv1, conv2_W, strides=[1, 1, 1, 1], padding='VALID') + conv2_b\n",
    "    \n",
    "    # Activation.\n",
    "    conv2 = tf.nn.relu(conv2)\n",
    "\n",
    "    # Pooling. Input = 10x10x16. Output = 5x5x16.\n",
    "    conv2 = tf.nn.max_pool(conv2, ksize=[1, 2, 2, 1], strides=[1, 2, 2, 1], padding='VALID')\n",
    "\n",
    "    # Flatten. Input = 5x5x16. Output = 400.\n",
    "    fc0   = tf.contrib.layers.flatten(conv2)\n",
    "    \n",
    "    # Layer 3: Fully Connected. Input = 400. Output = 120.\n",
    "    fc1_W = tf.Variable(tf.truncated_normal(shape=(400, 120), mean = mu, stddev = sigma))\n",
    "    fc1_b = tf.Variable(tf.zeros(120))\n",
    "    fc1   = tf.matmul(fc0, fc1_W) + fc1_b\n",
    "    \n",
    "    # Activation.\n",
    "    fc1    = tf.nn.relu(fc1)\n",
    "\n",
    "    # Dropout.\n",
    "    fc1    = tf.nn.dropout(fc1, keep_prob)\n",
    "    \n",
    "    # Layer 4: Fully Connected. Input = 120. Output = 84.\n",
    "    fc2_W  = tf.Variable(tf.truncated_normal(shape=(120, 84), mean = mu, stddev = sigma))\n",
    "    fc2_b  = tf.Variable(tf.zeros(84))\n",
    "    fc2    = tf.matmul(fc1, fc2_W) + fc2_b\n",
    "    \n",
    "    # Activation.\n",
    "    fc2    = tf.nn.relu(fc2)\n",
    "\n",
    "    # Dropout.\n",
    "    fc2    = tf.nn.dropout(fc2, keep_prob)\n",
    "\n",
    "    # Layer 5: Fully Connected. Input = 84. Output = n_classes.\n",
    "    fc3_W  = tf.Variable(tf.truncated_normal(shape=(84, n_classes), mean = mu, stddev = sigma))\n",
    "    fc3_b  = tf.Variable(tf.zeros(n_classes))\n",
    "    logits = tf.matmul(fc2, fc3_W) + fc3_b\n",
    "    \n",
    "    return logits"
   ]
  },
  {
   "cell_type": "markdown",
   "metadata": {},
   "source": [
    "### Train, Validate and Test the Model"
   ]
  },
  {
   "cell_type": "markdown",
   "metadata": {},
   "source": [
    "A validation set can be used to assess how well the model is performing. A low accuracy on the training and validation\n",
    "sets imply underfitting. A high accuracy on the training set but low accuracy on the validation set implies overfitting."
   ]
  },
  {
   "cell_type": "code",
   "execution_count": 8,
   "metadata": {},
   "outputs": [],
   "source": [
    "### Train your model here.\n",
    "### Calculate and report the accuracy on the training and validation set.\n",
    "### Once a final model architecture is selected, \n",
    "### the accuracy on the test set should be calculated and reported as well.\n",
    "### Feel free to use as many code cells as needed.\n",
    "x = tf.placeholder(tf.float32, (None, 32, 32, 3))\n",
    "y = tf.placeholder(tf.int32, (None))\n",
    "prob = tf.placeholder_with_default(1.0, shape=())\n",
    "one_hot_y = tf.one_hot(y, n_classes)\n",
    "\n",
    "EPOCHS = 100\n",
    "BATCH_SIZE = 128\n",
    "rate = 0.0004\n",
    "\n",
    "logits = LeNet(x, prob)\n",
    "cross_entropy = tf.nn.softmax_cross_entropy_with_logits(labels=one_hot_y, logits=logits)\n",
    "loss_operation = tf.reduce_mean(cross_entropy)\n",
    "optimizer = tf.train.AdamOptimizer(learning_rate = rate)\n",
    "training_operation = optimizer.minimize(loss_operation)\n",
    "\n",
    "correct_prediction = tf.equal(tf.argmax(logits, 1), tf.argmax(one_hot_y, 1))\n",
    "accuracy_operation = tf.reduce_mean(tf.cast(correct_prediction, tf.float32))\n",
    "\n",
    "def evaluate(X_data, y_data):\n",
    "    num_examples = len(X_data)\n",
    "    total_accuracy = 0\n",
    "    sess = tf.get_default_session()\n",
    "    for offset in range(0, num_examples, BATCH_SIZE):\n",
    "        batch_x, batch_y = X_data[offset:offset+BATCH_SIZE], y_data[offset:offset+BATCH_SIZE]\n",
    "        accuracy = sess.run(accuracy_operation, feed_dict={x: batch_x, y: batch_y})\n",
    "        total_accuracy += (accuracy * len(batch_x))\n",
    "    return total_accuracy / num_examples\n",
    "\n"
   ]
  },
  {
   "cell_type": "code",
   "execution_count": 9,
   "metadata": {},
   "outputs": [
    {
     "name": "stdout",
     "output_type": "stream",
     "text": [
      "Training...\n",
      "\n",
      "EPOCH 1 ...\n",
      "Training Accuracy = 0.473  Validation Accuracy = 0.406\n",
      "\n",
      "EPOCH 2 ...\n",
      "Training Accuracy = 0.658  Validation Accuracy = 0.595\n",
      "\n",
      "EPOCH 3 ...\n",
      "Training Accuracy = 0.784  Validation Accuracy = 0.734\n",
      "\n",
      "EPOCH 4 ...\n",
      "Training Accuracy = 0.839  Validation Accuracy = 0.796\n",
      "\n",
      "EPOCH 5 ...\n",
      "Training Accuracy = 0.889  Validation Accuracy = 0.840\n",
      "\n",
      "EPOCH 6 ...\n",
      "Training Accuracy = 0.902  Validation Accuracy = 0.857\n",
      "\n",
      "EPOCH 7 ...\n",
      "Training Accuracy = 0.922  Validation Accuracy = 0.864\n",
      "\n",
      "EPOCH 8 ...\n",
      "Training Accuracy = 0.934  Validation Accuracy = 0.874\n",
      "\n",
      "EPOCH 9 ...\n",
      "Training Accuracy = 0.943  Validation Accuracy = 0.895\n",
      "\n",
      "EPOCH 10 ...\n",
      "Training Accuracy = 0.943  Validation Accuracy = 0.886\n",
      "\n",
      "EPOCH 11 ...\n",
      "Training Accuracy = 0.956  Validation Accuracy = 0.904\n",
      "\n",
      "EPOCH 12 ...\n",
      "Training Accuracy = 0.961  Validation Accuracy = 0.908\n",
      "\n",
      "EPOCH 13 ...\n",
      "Training Accuracy = 0.963  Validation Accuracy = 0.916\n",
      "\n",
      "EPOCH 14 ...\n",
      "Training Accuracy = 0.967  Validation Accuracy = 0.923\n",
      "\n",
      "EPOCH 15 ...\n",
      "Training Accuracy = 0.969  Validation Accuracy = 0.923\n",
      "\n",
      "EPOCH 16 ...\n",
      "Training Accuracy = 0.974  Validation Accuracy = 0.921\n",
      "\n",
      "EPOCH 17 ...\n",
      "Training Accuracy = 0.975  Validation Accuracy = 0.924\n",
      "\n",
      "EPOCH 18 ...\n",
      "Training Accuracy = 0.978  Validation Accuracy = 0.930\n",
      "\n",
      "EPOCH 19 ...\n",
      "Training Accuracy = 0.980  Validation Accuracy = 0.922\n",
      "\n",
      "EPOCH 20 ...\n",
      "Training Accuracy = 0.983  Validation Accuracy = 0.932\n",
      "\n",
      "EPOCH 21 ...\n",
      "Training Accuracy = 0.982  Validation Accuracy = 0.934\n",
      "\n",
      "EPOCH 22 ...\n",
      "Training Accuracy = 0.984  Validation Accuracy = 0.936\n",
      "\n",
      "EPOCH 23 ...\n",
      "Training Accuracy = 0.985  Validation Accuracy = 0.934\n",
      "\n",
      "EPOCH 24 ...\n",
      "Training Accuracy = 0.988  Validation Accuracy = 0.934\n",
      "\n",
      "EPOCH 25 ...\n",
      "Training Accuracy = 0.988  Validation Accuracy = 0.939\n",
      "\n",
      "EPOCH 26 ...\n",
      "Training Accuracy = 0.988  Validation Accuracy = 0.940\n",
      "\n",
      "EPOCH 27 ...\n",
      "Training Accuracy = 0.987  Validation Accuracy = 0.940\n",
      "\n",
      "EPOCH 28 ...\n",
      "Training Accuracy = 0.990  Validation Accuracy = 0.937\n",
      "\n",
      "EPOCH 29 ...\n",
      "Training Accuracy = 0.991  Validation Accuracy = 0.942\n",
      "\n",
      "EPOCH 30 ...\n",
      "Training Accuracy = 0.991  Validation Accuracy = 0.941\n",
      "\n",
      "EPOCH 31 ...\n",
      "Training Accuracy = 0.991  Validation Accuracy = 0.945\n",
      "\n",
      "EPOCH 32 ...\n",
      "Training Accuracy = 0.991  Validation Accuracy = 0.937\n",
      "\n",
      "EPOCH 33 ...\n",
      "Training Accuracy = 0.992  Validation Accuracy = 0.942\n",
      "\n",
      "EPOCH 34 ...\n",
      "Training Accuracy = 0.993  Validation Accuracy = 0.941\n",
      "\n",
      "EPOCH 35 ...\n",
      "Training Accuracy = 0.993  Validation Accuracy = 0.941\n",
      "\n",
      "EPOCH 36 ...\n",
      "Training Accuracy = 0.993  Validation Accuracy = 0.945\n",
      "\n",
      "EPOCH 37 ...\n",
      "Training Accuracy = 0.994  Validation Accuracy = 0.947\n",
      "\n",
      "EPOCH 38 ...\n",
      "Training Accuracy = 0.994  Validation Accuracy = 0.947\n",
      "\n",
      "EPOCH 39 ...\n",
      "Training Accuracy = 0.995  Validation Accuracy = 0.950\n",
      "\n",
      "EPOCH 40 ...\n",
      "Training Accuracy = 0.994  Validation Accuracy = 0.949\n",
      "\n",
      "EPOCH 41 ...\n",
      "Training Accuracy = 0.995  Validation Accuracy = 0.947\n",
      "\n",
      "EPOCH 42 ...\n",
      "Training Accuracy = 0.996  Validation Accuracy = 0.949\n",
      "\n",
      "EPOCH 43 ...\n",
      "Training Accuracy = 0.996  Validation Accuracy = 0.950\n",
      "\n",
      "EPOCH 44 ...\n",
      "Training Accuracy = 0.994  Validation Accuracy = 0.949\n",
      "\n",
      "EPOCH 45 ...\n",
      "Training Accuracy = 0.996  Validation Accuracy = 0.951\n",
      "\n",
      "EPOCH 46 ...\n",
      "Training Accuracy = 0.996  Validation Accuracy = 0.949\n",
      "\n",
      "EPOCH 47 ...\n",
      "Training Accuracy = 0.996  Validation Accuracy = 0.954\n",
      "\n",
      "EPOCH 48 ...\n",
      "Training Accuracy = 0.996  Validation Accuracy = 0.951\n",
      "\n",
      "EPOCH 49 ...\n",
      "Training Accuracy = 0.996  Validation Accuracy = 0.950\n",
      "\n",
      "EPOCH 50 ...\n",
      "Training Accuracy = 0.997  Validation Accuracy = 0.951\n",
      "\n",
      "EPOCH 51 ...\n",
      "Training Accuracy = 0.997  Validation Accuracy = 0.949\n",
      "\n",
      "EPOCH 52 ...\n",
      "Training Accuracy = 0.997  Validation Accuracy = 0.954\n",
      "\n",
      "EPOCH 53 ...\n",
      "Training Accuracy = 0.997  Validation Accuracy = 0.949\n",
      "\n",
      "EPOCH 54 ...\n",
      "Training Accuracy = 0.997  Validation Accuracy = 0.953\n",
      "\n",
      "EPOCH 55 ...\n",
      "Training Accuracy = 0.998  Validation Accuracy = 0.948\n",
      "\n",
      "EPOCH 56 ...\n",
      "Training Accuracy = 0.997  Validation Accuracy = 0.944\n",
      "\n",
      "EPOCH 57 ...\n",
      "Training Accuracy = 0.998  Validation Accuracy = 0.950\n",
      "\n",
      "EPOCH 58 ...\n",
      "Training Accuracy = 0.998  Validation Accuracy = 0.949\n",
      "\n",
      "EPOCH 59 ...\n",
      "Training Accuracy = 0.998  Validation Accuracy = 0.952\n",
      "\n",
      "EPOCH 60 ...\n",
      "Training Accuracy = 0.998  Validation Accuracy = 0.952\n",
      "\n",
      "EPOCH 61 ...\n",
      "Training Accuracy = 0.998  Validation Accuracy = 0.950\n",
      "\n",
      "EPOCH 62 ...\n",
      "Training Accuracy = 0.998  Validation Accuracy = 0.946\n",
      "\n",
      "EPOCH 63 ...\n",
      "Training Accuracy = 0.999  Validation Accuracy = 0.949\n",
      "\n",
      "EPOCH 64 ...\n",
      "Training Accuracy = 0.999  Validation Accuracy = 0.953\n",
      "\n",
      "EPOCH 65 ...\n",
      "Training Accuracy = 0.998  Validation Accuracy = 0.957\n",
      "\n",
      "EPOCH 66 ...\n",
      "Training Accuracy = 0.998  Validation Accuracy = 0.952\n",
      "\n",
      "EPOCH 67 ...\n",
      "Training Accuracy = 0.998  Validation Accuracy = 0.951\n",
      "\n",
      "EPOCH 68 ...\n",
      "Training Accuracy = 0.999  Validation Accuracy = 0.957\n",
      "\n",
      "EPOCH 69 ...\n",
      "Training Accuracy = 0.999  Validation Accuracy = 0.960\n",
      "\n",
      "EPOCH 70 ...\n",
      "Training Accuracy = 0.999  Validation Accuracy = 0.955\n",
      "\n",
      "EPOCH 71 ...\n",
      "Training Accuracy = 0.998  Validation Accuracy = 0.954\n",
      "\n",
      "EPOCH 72 ...\n",
      "Training Accuracy = 0.999  Validation Accuracy = 0.956\n",
      "\n",
      "EPOCH 73 ...\n",
      "Training Accuracy = 0.999  Validation Accuracy = 0.957\n",
      "\n",
      "EPOCH 74 ...\n",
      "Training Accuracy = 0.999  Validation Accuracy = 0.955\n",
      "\n",
      "EPOCH 75 ...\n",
      "Training Accuracy = 0.999  Validation Accuracy = 0.958\n",
      "\n",
      "EPOCH 76 ...\n",
      "Training Accuracy = 0.999  Validation Accuracy = 0.961\n",
      "\n",
      "EPOCH 77 ...\n",
      "Training Accuracy = 0.999  Validation Accuracy = 0.954\n",
      "\n",
      "EPOCH 78 ...\n",
      "Training Accuracy = 0.999  Validation Accuracy = 0.956\n",
      "\n",
      "EPOCH 79 ...\n",
      "Training Accuracy = 0.999  Validation Accuracy = 0.957\n",
      "\n",
      "EPOCH 80 ...\n",
      "Training Accuracy = 0.999  Validation Accuracy = 0.959\n",
      "\n",
      "EPOCH 81 ...\n",
      "Training Accuracy = 0.999  Validation Accuracy = 0.961\n",
      "\n",
      "EPOCH 82 ...\n",
      "Training Accuracy = 0.999  Validation Accuracy = 0.954\n",
      "\n",
      "EPOCH 83 ...\n",
      "Training Accuracy = 0.999  Validation Accuracy = 0.956\n",
      "\n",
      "EPOCH 84 ...\n",
      "Training Accuracy = 0.999  Validation Accuracy = 0.957\n",
      "\n",
      "EPOCH 85 ...\n",
      "Training Accuracy = 0.999  Validation Accuracy = 0.956\n",
      "\n",
      "EPOCH 86 ...\n",
      "Training Accuracy = 1.000  Validation Accuracy = 0.955\n",
      "\n",
      "EPOCH 87 ...\n",
      "Training Accuracy = 0.999  Validation Accuracy = 0.954\n",
      "\n",
      "EPOCH 88 ...\n",
      "Training Accuracy = 0.999  Validation Accuracy = 0.961\n",
      "\n",
      "EPOCH 89 ...\n",
      "Training Accuracy = 0.999  Validation Accuracy = 0.954\n",
      "\n",
      "EPOCH 90 ...\n",
      "Training Accuracy = 0.999  Validation Accuracy = 0.954\n",
      "\n",
      "EPOCH 91 ...\n",
      "Training Accuracy = 1.000  Validation Accuracy = 0.958\n",
      "\n",
      "EPOCH 92 ...\n",
      "Training Accuracy = 0.999  Validation Accuracy = 0.957\n",
      "\n",
      "EPOCH 93 ...\n",
      "Training Accuracy = 0.999  Validation Accuracy = 0.954\n",
      "\n",
      "EPOCH 94 ...\n",
      "Training Accuracy = 0.999  Validation Accuracy = 0.961\n",
      "\n",
      "EPOCH 95 ...\n",
      "Training Accuracy = 0.999  Validation Accuracy = 0.954\n",
      "\n",
      "EPOCH 96 ...\n",
      "Training Accuracy = 1.000  Validation Accuracy = 0.956\n",
      "\n",
      "EPOCH 97 ...\n",
      "Training Accuracy = 0.999  Validation Accuracy = 0.958\n",
      "\n",
      "EPOCH 98 ...\n",
      "Training Accuracy = 0.999  Validation Accuracy = 0.958\n",
      "\n",
      "EPOCH 99 ...\n",
      "Training Accuracy = 1.000  Validation Accuracy = 0.956\n",
      "\n",
      "EPOCH 100 ...\n",
      "Training Accuracy = 1.000  Validation Accuracy = 0.960\n",
      "\n",
      "Model saved\n"
     ]
    }
   ],
   "source": [
    "saver = tf.train.Saver()\n",
    "\n",
    "with tf.Session() as sess:\n",
    "    sess.run(tf.global_variables_initializer())\n",
    "    num_examples = len(X_train_norm)\n",
    "    \n",
    "    print(\"Training...\")\n",
    "    print()\n",
    "    for i in range(EPOCHS):\n",
    "        X_train_norm, y_train = shuffle(X_train_norm, y_train)\n",
    "        for offset in range(0, num_examples, BATCH_SIZE):\n",
    "            end = offset + BATCH_SIZE\n",
    "            batch_x, batch_y = X_train_norm[offset:end], y_train[offset:end]\n",
    "            sess.run(training_operation, feed_dict={x: batch_x, y: batch_y, prob: 0.5})\n",
    "            \n",
    "        training_accuracy = evaluate(X_train_norm, y_train)\n",
    "        validation_accuracy = evaluate(X_valid_norm, y_valid)\n",
    "        print(\"EPOCH {} ...\".format(i+1))\n",
    "        print(\"Training Accuracy = {:.3f}  Validation Accuracy = {:.3f}\".format(training_accuracy, validation_accuracy))\n",
    "        print()\n",
    "        \n",
    "    saver.save(sess, './lenet')\n",
    "    print(\"Model saved\")"
   ]
  },
  {
   "cell_type": "markdown",
   "metadata": {},
   "source": [
    "---\n",
    "\n",
    "## Step 3: Test a Model on New Images\n",
    "\n",
    "To give yourself more insight into how your model is working, download at least five pictures of German traffic signs from the web and use your model to predict the traffic sign type.\n",
    "\n",
    "You may find `signnames.csv` useful as it contains mappings from the class id (integer) to the actual sign name."
   ]
  },
  {
   "cell_type": "markdown",
   "metadata": {},
   "source": [
    "### Load and Output the Images"
   ]
  },
  {
   "cell_type": "code",
   "execution_count": 10,
   "metadata": {},
   "outputs": [
    {
     "name": "stdout",
     "output_type": "stream",
     "text": [
      "33\n",
      "18\n",
      "13\n",
      "17\n",
      "29\n",
      "13\n",
      "18\n",
      "18\n",
      "33\n",
      "28\n"
     ]
    },
    {
     "data": {
      "image/png": "[encoded data removed]",
      "text/plain": [
       "<matplotlib.figure.Figure at 0x7f8e226c4fd0>"
      ]
     },
     "metadata": {
      "needs_background": "light"
     },
     "output_type": "display_data"
    },
    {
     "data": {
      "image/png": "[encoded data removed]",
      "text/plain": [
       "<matplotlib.figure.Figure at 0x7f8e0c7535c0>"
      ]
     },
     "metadata": {
      "needs_background": "light"
     },
     "output_type": "display_data"
    },
    {
     "data": {
      "image/png": "[encoded data removed]",
      "text/plain": [
       "<matplotlib.figure.Figure at 0x7f8e0c795198>"
      ]
     },
     "metadata": {
      "needs_background": "light"
     },
     "output_type": "display_data"
    },
    {
     "data": {
      "image/png": "[encoded data removed]",
      "text/plain": [
       "<matplotlib.figure.Figure at 0x7f8e14050cf8>"
      ]
     },
     "metadata": {
      "needs_background": "light"
     },
     "output_type": "display_data"
    },
    {
     "data": {
      "image/png": "[encoded data removed]",
      "text/plain": [
       "<matplotlib.figure.Figure at 0x7f8e14062ba8>"
      ]
     },
     "metadata": {
      "needs_background": "light"
     },
     "output_type": "display_data"
    },
    {
     "data": {
      "image/png": "[encoded data removed]",
      "text/plain": [
       "<matplotlib.figure.Figure at 0x7f8e0c70b748>"
      ]
     },
     "metadata": {
      "needs_background": "light"
     },
     "output_type": "display_data"
    },
    {
     "data": {
      "image/png": "[encoded data removed]",
      "text/plain": [
       "<matplotlib.figure.Figure at 0x7f8e0c6cf160>"
      ]
     },
     "metadata": {
      "needs_background": "light"
     },
     "output_type": "display_data"
    },
    {
     "data": {
      "image/png": "[encoded data removed]",
      "text/plain": [
       "<matplotlib.figure.Figure at 0x7f8e0c689a20>"
      ]
     },
     "metadata": {
      "needs_background": "light"
     },
     "output_type": "display_data"
    },
    {
     "data": {
      "image/png": "[encoded data removed]",
      "text/plain": [
       "<matplotlib.figure.Figure at 0x7f8e0c64c470>"
      ]
     },
     "metadata": {
      "needs_background": "light"
     },
     "output_type": "display_data"
    },
    {
     "data": {
      "image/png": "[encoded data removed]",
      "text/plain": [
       "<matplotlib.figure.Figure at 0x7f8e0c5feb00>"
      ]
     },
     "metadata": {
      "needs_background": "light"
     },
     "output_type": "display_data"
    }
   ],
   "source": [
    "### Load the images and plot them here.\n",
    "### Feel free to use as many code cells as needed.\n",
    "for i in range(10):\n",
    "    index = random.randint(0, len(X_test))\n",
    "    image = X_test[index].squeeze()\n",
    "    plt.figure(figsize=(1,1))\n",
    "    plt.imshow(image)\n",
    "    print(y_test[index])"
   ]
  },
  {
   "cell_type": "markdown",
   "metadata": {},
   "source": [
    "### Predict the Sign Type for Each Image"
   ]
  },
  {
   "cell_type": "code",
   "execution_count": 11,
   "metadata": {},
   "outputs": [
    {
     "name": "stdout",
     "output_type": "stream",
     "text": [
      "INFO:tensorflow:Restoring parameters from ./lenet\n",
      "Test Accuracy = 0.942\n"
     ]
    }
   ],
   "source": [
    "### Run the predictions here and use the model to output the prediction for each image.\n",
    "### Make sure to pre-process the images with the same pre-processing pipeline used earlier.\n",
    "### Feel free to use as many code cells as needed.\n",
    "X_test_norm  = normalize_image(X_test)\n",
    "\n",
    "saver2 = tf.train.Saver()\n",
    "\n",
    "with tf.Session() as sess:\n",
    "#     sess.run(tf.global_variables_initializer())\n",
    "    saver2.restore(sess, \"./lenet\")\n",
    "    test_accuracy = evaluate(X_test_norm, y_test)\n",
    "    print(\"Test Accuracy = {:.3f}\".format(test_accuracy))"
   ]
  },
  {
   "cell_type": "markdown",
   "metadata": {},
   "source": [
    "### Analyze Performance"
   ]
  },
  {
   "cell_type": "code",
   "execution_count": 12,
   "metadata": {},
   "outputs": [
    {
     "name": "stdout",
     "output_type": "stream",
     "text": [
      "(32, 32, 3)\n",
      "(32, 32, 3)\n",
      "(32, 32, 3)\n",
      "(32, 32, 3)\n",
      "(32, 32, 3)\n",
      "(32, 32, 3)\n"
     ]
    },
    {
     "data": {
      "image/png": "[encoded data removed]",
      "text/plain": [
       "<matplotlib.figure.Figure at 0x7f8e0c59f860>"
      ]
     },
     "metadata": {
      "needs_background": "light"
     },
     "output_type": "display_data"
    },
    {
     "data": {
      "image/png": "[encoded data removed]",
      "text/plain": [
       "<matplotlib.figure.Figure at 0x7f8e0dfc3eb8>"
      ]
     },
     "metadata": {
      "needs_background": "light"
     },
     "output_type": "display_data"
    },
    {
     "data": {
      "image/png": "[encoded data removed]",
      "text/plain": [
       "<matplotlib.figure.Figure at 0x7f8e0df85a58>"
      ]
     },
     "metadata": {
      "needs_background": "light"
     },
     "output_type": "display_data"
    },
    {
     "data": {
      "image/png": "[encoded data removed]",
      "text/plain": [
       "<matplotlib.figure.Figure at 0x7f8e0df485c0>"
      ]
     },
     "metadata": {
      "needs_background": "light"
     },
     "output_type": "display_data"
    },
    {
     "data": {
      "image/png": "[encoded data removed]",
      "text/plain": [
       "<matplotlib.figure.Figure at 0x7f8e0df090b8>"
      ]
     },
     "metadata": {
      "needs_background": "light"
     },
     "output_type": "display_data"
    }
   ],
   "source": [
    "### Calculate the accuracy for these 5 new images. \n",
    "### For example, if the model predicted 1 out of 5 signs correctly, it's 20% accurate on these new images.\n",
    "import os\n",
    "\n",
    "my_files = os.listdir('my_traffic_signs')\n",
    "my_images = []\n",
    "for file in my_files:\n",
    "    image = plt.imread('./my_traffic_signs/' + file)\n",
    "    image = image[:,:,:-1]\n",
    "    print(image.shape)\n",
    "    my_images.append(image)\n",
    "    plt.figure(figsize=(1,1))\n",
    "    plt.imshow(image)\n",
    "    \n",
    "my_images = np.asarray(my_images)\n",
    "\n",
    "print(my_images[0].shape)\n",
    "\n",
    "# for i in range(5):\n",
    "#     print(my_images[i])\n",
    "my_y = [28, 1, 12, 11, 17]"
   ]
  },
  {
   "cell_type": "code",
   "execution_count": 13,
   "metadata": {},
   "outputs": [
    {
     "name": "stdout",
     "output_type": "stream",
     "text": [
      "INFO:tensorflow:Restoring parameters from ./lenet\n",
      "Test Accuracy = 1.000\n"
     ]
    }
   ],
   "source": [
    "my_test_norm  = my_images\n",
    "# my_test_norm  = normalize_image(my_images)\n",
    "\n",
    "saver2 = tf.train.Saver()\n",
    "\n",
    "with tf.Session() as sess:\n",
    "    sess.run(tf.global_variables_initializer())\n",
    "    saver2.restore(sess, \"./lenet\")\n",
    "    test_accuracy = evaluate(my_test_norm, my_y)\n",
    "    print(\"Test Accuracy = {:.3f}\".format(test_accuracy))"
   ]
  },
  {
   "cell_type": "markdown",
   "metadata": {},
   "source": [
    "### Output Top 5 Softmax Probabilities For Each Image Found on the Web"
   ]
  },
  {
   "cell_type": "markdown",
   "metadata": {},
   "source": [
    "For each of the new images, print out the model's softmax probabilities to show the **certainty** of the model's predictions (limit the output to the top 5 probabilities for each image). [`tf.nn.top_k`](https://www.tensorflow.org/versions/r0.12/api_docs/python/nn.html#top_k) could prove helpful here. \n",
    "\n",
    "The example below demonstrates how tf.nn.top_k can be used to find the top k predictions for each image.\n",
    "\n",
    "`tf.nn.top_k` will return the values and indices (class ids) of the top k predictions. So if k=3, for each sign, it'll return the 3 largest probabilities (out of a possible 43) and the correspoding class ids.\n",
    "\n",
    "Take this numpy array as an example. The values in the array represent predictions. The array contains softmax probabilities for five candidate images with six possible classes. `tf.nn.top_k` is used to choose the three classes with the highest probability:\n",
    "\n",
    "```\n",
    "# (5, 6) array\n",
    "a = np.array([[ 0.24879643,  0.07032244,  0.12641572,  0.34763842,  0.07893497,\n",
    "         0.12789202],\n",
    "       [ 0.28086119,  0.27569815,  0.08594638,  0.0178669 ,  0.18063401,\n",
    "         0.15899337],\n",
    "       [ 0.26076848,  0.23664738,  0.08020603,  0.07001922,  0.1134371 ,\n",
    "         0.23892179],\n",
    "       [ 0.11943333,  0.29198961,  0.02605103,  0.26234032,  0.1351348 ,\n",
    "         0.16505091],\n",
    "       [ 0.09561176,  0.34396535,  0.0643941 ,  0.16240774,  0.24206137,\n",
    "         0.09155967]])\n",
    "```\n",
    "\n",
    "Running it through `sess.run(tf.nn.top_k(tf.constant(a), k=3))` produces:\n",
    "\n",
    "```\n",
    "TopKV2(values=array([[ 0.34763842,  0.24879643,  0.12789202],\n",
    "       [ 0.28086119,  0.27569815,  0.18063401],\n",
    "       [ 0.26076848,  0.23892179,  0.23664738],\n",
    "       [ 0.29198961,  0.26234032,  0.16505091],\n",
    "       [ 0.34396535,  0.24206137,  0.16240774]]), indices=array([[3, 0, 5],\n",
    "       [0, 1, 4],\n",
    "       [0, 5, 1],\n",
    "       [1, 3, 5],\n",
    "       [1, 4, 3]], dtype=int32))\n",
    "```\n",
    "\n",
    "Looking just at the first row we get `[ 0.34763842,  0.24879643,  0.12789202]`, you can confirm these are the 3 largest probabilities in `a`. You'll also notice `[3, 0, 5]` are the corresponding indices."
   ]
  },
  {
   "cell_type": "code",
   "execution_count": 14,
   "metadata": {},
   "outputs": [
    {
     "name": "stdout",
     "output_type": "stream",
     "text": [
      "INFO:tensorflow:Restoring parameters from ./lenet\n",
      "TopKV2(values=array([[  8.69910240e-01,   8.94196406e-02,   9.39623453e-03,\n",
      "          7.91947078e-03,   5.10063348e-03],\n",
      "       [  1.00000000e+00,   1.57081264e-08,   3.39003770e-10,\n",
      "          1.00911548e-13,   1.08979309e-21],\n",
      "       [  1.00000000e+00,   2.01185624e-09,   4.01389311e-10,\n",
      "          6.93467679e-12,   3.55151282e-12],\n",
      "       [  9.99866724e-01,   1.28585016e-04,   4.67521659e-06,\n",
      "          5.48268702e-08,   9.05677933e-09],\n",
      "       [  9.99999404e-01,   5.97408757e-07,   2.67990196e-11,\n",
      "          2.85836025e-12,   2.63001101e-13]], dtype=float32), indices=array([[28, 20,  3, 16, 41],\n",
      "       [ 1,  0,  4,  2, 18],\n",
      "       [12, 13, 10, 35, 14],\n",
      "       [11, 30, 21, 27, 16],\n",
      "       [17, 14, 37,  0, 13]], dtype=int32))\n"
     ]
    }
   ],
   "source": [
    "### Print out the top five softmax probabilities for the predictions on the German traffic sign images found on the web. \n",
    "### Feel free to use as many code cells as needed.\n",
    "saver2 = tf.train.Saver()\n",
    "\n",
    "with tf.Session() as sess:\n",
    "    sess.run(tf.global_variables_initializer())\n",
    "    saver2.restore(sess, \"./lenet\")\n",
    "    my_softmax_logits = sess.run(tf.nn.softmax(logits), feed_dict={x: my_test_norm, prob: 1.0})\n",
    "    my_top_k = sess.run(tf.nn.top_k(my_softmax_logits, k=5), feed_dict={x: my_test_norm, prob: 1.0})\n",
    "    print(my_top_k)\n"
   ]
  },
  {
   "cell_type": "markdown",
   "metadata": {},
   "source": [
    "### Project Writeup\n",
    "\n",
    "Once you have completed the code implementation, document your results in a project writeup using this [template](https://github.com/udacity/CarND-Traffic-Sign-Classifier-Project/blob/master/writeup_template.md) as a guide. The writeup can be in a markdown or pdf file. "
   ]
  },
  {
   "cell_type": "markdown",
   "metadata": {},
   "source": [
    "> **Note**: Once you have completed all of the code implementations and successfully answered each question above, you may finalize your work by exporting the iPython Notebook as an HTML document. You can do this by using the menu above and navigating to  \\n\",\n",
    "    \"**File -> Download as -> HTML (.html)**. Include the finished document along with this notebook as your submission."
   ]
  },
  {
   "cell_type": "markdown",
   "metadata": {},
   "source": [
    "---\n",
    "\n",
    "## Step 4 (Optional): Visualize the Neural Network's State with Test Images\n",
    "\n",
    " This Section is not required to complete but acts as an additional excersise for understaning the output of a neural network's weights. While neural networks can be a great learning device they are often referred to as a black box. We can understand what the weights of a neural network look like better by plotting their feature maps. After successfully training your neural network you can see what it's feature maps look like by plotting the output of the network's weight layers in response to a test stimuli image. From these plotted feature maps, it's possible to see what characteristics of an image the network finds interesting. For a sign, maybe the inner network feature maps react with high activation to the sign's boundary outline or to the contrast in the sign's painted symbol.\n",
    "\n",
    " Provided for you below is the function code that allows you to get the visualization output of any tensorflow weight layer you want. The inputs to the function should be a stimuli image, one used during training or a new one you provided, and then the tensorflow variable name that represents the layer's state during the training process, for instance if you wanted to see what the [LeNet lab's](https://classroom.udacity.com/nanodegrees/nd013/parts/fbf77062-5703-404e-b60c-95b78b2f3f9e/modules/6df7ae49-c61c-4bb2-a23e-6527e69209ec/lessons/601ae704-1035-4287-8b11-e2c2716217ad/concepts/d4aca031-508f-4e0b-b493-e7b706120f81) feature maps looked like for it's second convolutional layer you could enter conv2 as the tf_activation variable.\n",
    "\n",
    "For an example of what feature map outputs look like, check out NVIDIA's results in their paper [End-to-End Deep Learning for Self-Driving Cars](https://devblogs.nvidia.com/parallelforall/deep-learning-self-driving-cars/) in the section Visualization of internal CNN State. NVIDIA was able to show that their network's inner weights had high activations to road boundary lines by comparing feature maps from an image with a clear path to one without. Try experimenting with a similar test to show that your trained network's weights are looking for interesting features, whether it's looking at differences in feature maps from images with or without a sign, or even what feature maps look like in a trained network vs a completely untrained one on the same sign image.\n",
    "\n",
    "<figure>\n",
    " <img src=\"visualize_cnn.png\" width=\"380\" alt=\"Combined Image\" />\n",
    " <figcaption>\n",
    " <p></p> \n",
    " <p style=\"text-align: center;\"> Your output should look something like this (above)</p> \n",
    " </figcaption>\n",
    "</figure>\n",
    " <p></p> \n"
   ]
  },
  {
   "cell_type": "code",
   "execution_count": null,
   "metadata": {},
   "outputs": [],
   "source": [
    "### Visualize your network's feature maps here.\n",
    "### Feel free to use as many code cells as needed.\n",
    "\n",
    "# image_input: the test image being fed into the network to produce the feature maps\n",
    "# tf_activation: should be a tf variable name used during your training procedure that represents the calculated state of a specific weight layer\n",
    "# activation_min/max: can be used to view the activation contrast in more detail, by default matplot sets min and max to the actual min and max values of the output\n",
    "# plt_num: used to plot out multiple different weight feature map sets on the same block, just extend the plt number for each new feature map entry\n",
    "\n",
    "def outputFeatureMap(image_input, tf_activation, activation_min=-1, activation_max=-1 ,plt_num=1):\n",
    "    # Here make sure to preprocess your image_input in a way your network expects\n",
    "    # with size, normalization, ect if needed\n",
    "    # image_input =\n",
    "    # Note: x should be the same name as your network's tensorflow data placeholder variable\n",
    "    # If you get an error tf_activation is not defined it may be having trouble accessing the variable from inside a function\n",
    "    activation = tf_activation.eval(session=sess,feed_dict={x : image_input})\n",
    "    featuremaps = activation.shape[3]\n",
    "    plt.figure(plt_num, figsize=(15,15))\n",
    "    for featuremap in range(featuremaps):\n",
    "        plt.subplot(6,8, featuremap+1) # sets the number of feature maps to show on each row and column\n",
    "        plt.title('FeatureMap ' + str(featuremap)) # displays the feature map number\n",
    "        if activation_min != -1 & activation_max != -1:\n",
    "            plt.imshow(activation[0,:,:, featuremap], interpolation=\"nearest\", vmin =activation_min, vmax=activation_max, cmap=\"gray\")\n",
    "        elif activation_max != -1:\n",
    "            plt.imshow(activation[0,:,:, featuremap], interpolation=\"nearest\", vmax=activation_max, cmap=\"gray\")\n",
    "        elif activation_min !=-1:\n",
    "            plt.imshow(activation[0,:,:, featuremap], interpolation=\"nearest\", vmin=activation_min, cmap=\"gray\")\n",
    "        else:\n",
    "            plt.imshow(activation[0,:,:, featuremap], interpolation=\"nearest\", cmap=\"gray\")"
   ]
  }
 ],
 "metadata": {
  "anaconda-cloud": {},
  "kernelspec": {
   "display_name": "Python 3",
   "language": "python",
   "name": "python3"
  },
  "language_info": {
   "codemirror_mode": {
    "name": "ipython",
    "version": 3
   },
   "file_extension": ".py",
   "mimetype": "text/x-python",
   "name": "python",
   "nbconvert_exporter": "python",
   "pygments_lexer": "ipython3",
   "version": "3.6.3"
  }
 },
 "nbformat": 4,
 "nbformat_minor": 1
}
